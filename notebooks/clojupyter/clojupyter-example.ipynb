{
 "cells": [
  {
   "cell_type": "code",
   "execution_count": null,
   "metadata": {},
   "outputs": [],
   "source": [
    "(require '[clojure.set :as set] '[clojure.pprint :as pp])\n",
    "\n",
    "\n",
    "(println \"hello world\")\n",
    "(pp/pprint {:some \"cool data\" :for \"yo ass!\" :degrees 101})\n"
   ]
  },
  {
   "cell_type": "code",
   "execution_count": null,
   "metadata": {},
   "outputs": [],
   "source": [
    "(require '[tech.ml.dataset :as ds]\n",
    "         '[libpython-clj.python :as py :refer [py. py.. py.-]]\n",
    "         '[libpython-clj.require :refer [require-python]])"
   ]
  },
  {
   "cell_type": "code",
   "execution_count": null,
   "metadata": {},
   "outputs": [],
   "source": [
    "(require-python '[sklearn.datasets :as sk-data]\n",
    "                '[sklearn.model_selection :as sk-model]\n",
    "                '[numpy :as numpy]\n",
    "                '[numba :as numba]\n",
    "                '[pandas :as pandas]\n",
    "                '[umap :as umap])"
   ]
  },
  {
   "cell_type": "code",
   "execution_count": null,
   "metadata": {},
   "outputs": [],
   "source": [
    "(require '[clojupyter.protocol.mime-convertible :as mc])"
   ]
  },
  {
   "cell_type": "code",
   "execution_count": null,
   "metadata": {},
   "outputs": [],
   "source": [
    "(require '[oz.notebook.clojupyter :as oz])\n",
    "(oz/view! {:data {:values [{:a 3 :b 4} {:a 4 :b 8} {:a 2 :b 5}]}\n",
    "           :mark :point\n",
    "           :width 400\n",
    "           :encoding {:x {:field :a}\n",
    "                      :y {:field :b}}})"
   ]
  },
  {
   "cell_type": "code",
   "execution_count": null,
   "metadata": {},
   "outputs": [],
   "source": [
    "(ds/->dataset \"/app/data/vtaiwan-uber-conv.ts-2015-08-28.exported-2020-07-02/summary.csv\")"
   ]
  },
  {
   "cell_type": "code",
   "execution_count": null,
   "metadata": {},
   "outputs": [],
   "source": [
    "(def comments (ds/->dataset \"/app/data/vtaiwan-uber-conv.ts-2015-08-28.exported-2020-07-02/comments.csv\"))"
   ]
  },
  {
   "cell_type": "code",
   "execution_count": null,
   "metadata": {},
   "outputs": [],
   "source": [
    "(ds/->mapseq comments)"
   ]
  }
 ],
 "metadata": {
  "kernelspec": {
   "display_name": "Clojure (polis-clojupyter-kernel)",
   "language": "clojure",
   "name": "polis-clojupyter-kernel"
  },
  "language_info": {
   "file_extension": ".clj",
   "mimetype": "text/x-clojure",
   "name": "clojure",
   "version": "1.10.0"
  }
 },
 "nbformat": 4,
 "nbformat_minor": 4
}
