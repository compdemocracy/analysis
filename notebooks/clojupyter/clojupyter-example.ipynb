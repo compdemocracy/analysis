{
 "cells": [
  {
   "cell_type": "code",
   "execution_count": 1,
   "metadata": {},
   "outputs": [
    {
     "name": "stdout",
     "output_type": "stream",
     "text": [
      "hello world\n",
      "{:some \"cool data\", :for \"yo ass!\", :degrees 101}\n"
     ]
    },
    {
     "data": {
      "text/plain": [
       "nil"
      ]
     },
     "execution_count": 1,
     "metadata": {},
     "output_type": "execute_result"
    }
   ],
   "source": [
    "(require '[clojure.set :as set] '[clojure.pprint :as pp])\n",
    "\n",
    "\n",
    "(println \"hello world\")\n",
    "(pp/pprint {:some \"cool data\" :for \"yo ass!\" :degrees 101})\n"
   ]
  },
  {
   "cell_type": "code",
   "execution_count": 2,
   "metadata": {},
   "outputs": [
    {
     "data": {
      "text/plain": [
       "nil"
      ]
     },
     "execution_count": 2,
     "metadata": {},
     "output_type": "execute_result"
    }
   ],
   "source": [
    "(require '[tech.ml.dataset :as ds]\n",
    "         '[libpython-clj.python :as py :refer [py. py.. py.-]]\n",
    "         '[libpython-clj.require :refer [require-python]])"
   ]
  },
  {
   "cell_type": "code",
   "execution_count": 4,
   "metadata": {},
   "outputs": [
    {
     "data": {
      "text/plain": [
       ":ok"
      ]
     },
     "execution_count": 4,
     "metadata": {},
     "output_type": "execute_result"
    }
   ],
   "source": [
    "(require-python '[sklearn.datasets :as sk-data]\n",
    "                '[sklearn.model_selection :as sk-model]\n",
    "                '[numpy :as numpy]\n",
    "                '[numba :as numba]\n",
    "                '[pandas :as pandas]\n",
    "                '[umap :as umap])"
   ]
  },
  {
   "cell_type": "code",
   "execution_count": 3,
   "metadata": {},
   "outputs": [
    {
     "data": {
      "text/plain": [
       "nil"
      ]
     },
     "execution_count": 3,
     "metadata": {},
     "output_type": "execute_result"
    }
   ],
   "source": [
    "(require '[clojupyter.protocol.mime-convertible :as mc])"
   ]
  },
  {
   "cell_type": "code",
   "execution_count": 5,
   "metadata": {},
   "outputs": [
    {
     "data": {
      "text/html": [
       "\n",
       "  <div>\n",
       "    <div id='uuid-3904dd67-e1ec-4549-873f-c2c51a62c472'></div>\n",
       "    <script>\n",
       "    requirejs.config({\n",
       "      baseUrl: 'https://cdn.jsdelivr.net/npm/',\n",
       "      paths: {\n",
       "        'vega-embed':  'vega-embed@6.9.0?noext',\n",
       "        'vega-lib': 'vega-lib?noext',\n",
       "        'vega-lite': 'vega-lite@4.13.1?noext',\n",
       "        'vega': 'vega@5.13.0?noext'\n",
       "      }\n",
       "    });\n",
       "    require(['vega-embed'], function(vegaEmbed) {\n",
       "      let spec = {\"data\":{\"values\":[{\"a\":3,\"b\":4},{\"a\":4,\"b\":8},{\"a\":2,\"b\":5}]},\"mark\":\"point\",\"width\":400,\"encoding\":{\"x\":{\"field\":\"a\"},\"y\":{\"field\":\"b\"}}};\n",
       "      vegaEmbed('#uuid-3904dd67-e1ec-4549-873f-c2c51a62c472', spec, {defaultStyle:true}).catch(console.warn);\n",
       "      }, function(err) {\n",
       "      console.log('Failed to load');\n",
       "    });\n",
       "    </script>\n",
       "  </div>\n",
       "    "
      ]
     },
     "execution_count": 5,
     "metadata": {},
     "output_type": "execute_result"
    }
   ],
   "source": [
    "(require '[oz.notebook.clojupyter :as oz])\n",
    "(oz/view! {:data {:values [{:a 3 :b 4} {:a 4 :b 8} {:a 2 :b 5}]}\n",
    "           :mark :point\n",
    "           :width 400\n",
    "           :encoding {:x {:field :a}\n",
    "                      :y {:field :b}}})"
   ]
  },
  {
   "cell_type": "code",
   "execution_count": 4,
   "metadata": {},
   "outputs": [
    {
     "data": {
      "text/plain": [
       "/app/data/vtaiwan-uber-conv.ts-2015-08-28.exported-2020-07-02/summary.csv [8 2]:\n",
       "\n",
       "|                    topic |                                                                  UberX 自用車載客 — vTaiwan.tw |\n",
       "|--------------------------|-------------------------------------------------------------------------------------------|\n",
       "|                      url |                                                                 https://pol.is/3phdex2kjf |\n",
       "|                    views |                                                                                      4740 |\n",
       "|                   voters |                                                                                      1993 |\n",
       "|           voters-in-conv |                                                                                      1993 |\n",
       "|               commenters |                                                                                       105 |\n",
       "|                 comments |                                                                                       197 |\n",
       "|                   groups |                                                                                         2 |\n",
       "| conversation-description | 線上叫車創新服務迅速竄起，提供不同選擇與體驗的 UberX，是否需要跟臺灣小黃或租車業者遵守相同的法律？歡迎大家來討論。                              |\n",
       "|                          |                                                                                           |\n",
       "|                          | * [參考資料目錄](http://beta.hackfoldr.org/1l1nYZPK3G-_sJDsqDql9RBYh_SR_hwfEFjVuDOcsZ-4)（歡迎投稿）。 |\n",
       "|                          | * **請點選「分享您的觀點...」加入你的意見，請用「我覺得...」開頭。**                                                  |\n",
       "|                          | * 新寫的意見是獨立的，不需要回覆別人的看法。                                                                   |\n",
       "|                          | * 有多個感受請分開寫，請勿使用問句。                                                                       |\n",
       "|                          | * 點選「共同意見」來看立場不同的人共同認同的論點。                                                                |\n",
       "|                          | * 請參考[線上諮詢會議影音、文字紀錄](https://tinyurl.com/20150827)。                                       |\n",
       "|                          | 接下來我們會提請交通部回應，並決定是否在 vTaiwan.tw 上啟動下一階段的討論。                                               |\n",
       "|                          |                                                                                           |\n",
       "|                          | （附註：此系統不是為了人數統計，而是想找出「多樣分佈族群」和「多方共同意見」，因此意見相同的許多人會以單點表示。歡迎大家提出自己的看法。）                     |\n"
      ]
     },
     "execution_count": 4,
     "metadata": {},
     "output_type": "execute_result"
    }
   ],
   "source": [
    "(ds/->dataset \"/app/data/vtaiwan-uber-conv.ts-2015-08-28.exported-2020-07-02/summary.csv\")"
   ]
  },
  {
   "cell_type": "code",
   "execution_count": 12,
   "metadata": {},
   "outputs": [
    {
     "data": {
      "text/plain": [
       "#'user/comments"
      ]
     },
     "execution_count": 12,
     "metadata": {},
     "output_type": "execute_result"
    }
   ],
   "source": [
    "(def comments (ds/->dataset \"/app/data/vtaiwan-uber-conv.ts-2015-08-28.exported-2020-07-02/comments.csv\"))"
   ]
  },
  {
   "cell_type": "code",
   "execution_count": 15,
   "metadata": {},
   "outputs": [
    {
     "name": "stderr",
     "output_type": "stream",
     "text": [
      "Syntax error compiling at (REPL:1:1).\n",
      "No such var: ds/->mapseq\n"
     ]
    },
    {
     "ename": "class clojure.lang.Compiler$CompilerException",
     "evalue": "",
     "output_type": "error",
     "traceback": [
      "  Util.java:   221 clojure.lang.Util/runtimeException",
      "   core.clj:  3214 clojure.core$eval/invokeStatic",
      "   core.clj:  3210 clojure.core$eval/invoke",
      "   main.clj:   414 clojure.main$repl$read_eval_print__9068$fn__9071/invoke",
      "   main.clj:   435 clojure.main$repl$fn__9077/invoke",
      "   main.clj:   345 clojure.main$repl/doInvoke",
      "RestFn.java:  1523 clojure.lang.RestFn/invoke",
      "   AFn.java:    22 clojure.lang.AFn/run",
      "   AFn.java:    22 clojure.lang.AFn/run",
      "Thread.java:   834 java.lang.Thread/run"
     ]
    }
   ],
   "source": [
    "(ds/->mapseq comments)"
   ]
  }
 ],
 "metadata": {
  "kernelspec": {
   "display_name": "Clojure (polis-clojupyter-kernel)",
   "language": "clojure",
   "name": "polis-clojupyter-kernel"
  },
  "language_info": {
   "file_extension": ".clj",
   "mimetype": "text/x-clojure",
   "name": "clojure",
   "version": "1.10.0"
  }
 },
 "nbformat": 4,
 "nbformat_minor": 4
}
